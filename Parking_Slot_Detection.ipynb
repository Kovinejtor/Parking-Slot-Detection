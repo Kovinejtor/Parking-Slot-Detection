{
 "cells": [
  {
   "cell_type": "code",
   "execution_count": null,
   "metadata": {},
   "outputs": [],
   "source": [
    "%pip install ultralytics\n",
    "%pip install albumentations"
   ]
  },
  {
   "cell_type": "code",
   "execution_count": 1,
   "metadata": {},
   "outputs": [],
   "source": [
    "from ultralytics import YOLO"
   ]
  },
  {
   "cell_type": "code",
   "execution_count": 2,
   "metadata": {},
   "outputs": [],
   "source": [
    "model = YOLO('yolov8s.pt')"
   ]
  },
  {
   "cell_type": "code",
   "execution_count": null,
   "metadata": {},
   "outputs": [],
   "source": [
    "model.train(data='datasets/Dataset/data.yaml', epochs=100, imgsz=640)"
   ]
  },
  {
   "cell_type": "code",
   "execution_count": null,
   "metadata": {},
   "outputs": [],
   "source": [
    "best_model_path = 'runs/detect/train/weights/best.pt'\n",
    "best_model = YOLO(best_model_path)\n",
    "metrics = best_model.val(data='datasets/Dataset/data.yaml', imgsz=640)\n",
    "print(metrics)"
   ]
  },
  {
   "cell_type": "code",
   "execution_count": null,
   "metadata": {},
   "outputs": [],
   "source": [
    "test_results = best_model.predict(source='datasets/Dataset/test/images', imgsz=640, conf=0.25, save=True, save_dir='output/predictions')"
   ]
  },
  {
   "cell_type": "code",
   "execution_count": 4,
   "metadata": {},
   "outputs": [],
   "source": [
    "modelv8n = YOLO('yolov8n.pt')"
   ]
  },
  {
   "cell_type": "code",
   "execution_count": null,
   "metadata": {},
   "outputs": [],
   "source": [
    "modelv8n.train(data='datasets/Dataset/data.yaml', epochs=100, imgsz=640)"
   ]
  },
  {
   "cell_type": "code",
   "execution_count": null,
   "metadata": {},
   "outputs": [],
   "source": [
    "best_model_path = 'runs/detect/train2/weights/best.pt'\n",
    "best_model = YOLO(best_model_path)\n",
    "metrics = best_model.val(data='datasets/Dataset/data.yaml', imgsz=640)\n",
    "print(metrics)"
   ]
  },
  {
   "cell_type": "code",
   "execution_count": null,
   "metadata": {},
   "outputs": [],
   "source": [
    "test_results = best_model.predict(source='datasets/Dataset/test/images', imgsz=640, conf=0.25, save=True, save_dir='output/predictions')"
   ]
  },
  {
   "cell_type": "code",
   "execution_count": 13,
   "metadata": {},
   "outputs": [],
   "source": [
    "modelv8m = YOLO('yolov8m.pt')"
   ]
  },
  {
   "cell_type": "code",
   "execution_count": null,
   "metadata": {},
   "outputs": [],
   "source": [
    "modelv8m.train(data='datasets/Dataset/data.yaml', epochs=100, imgsz=320, batch=16)"
   ]
  },
  {
   "cell_type": "code",
   "execution_count": null,
   "metadata": {},
   "outputs": [],
   "source": [
    "best_model_path = 'runs/detect/train3/weights/best.pt'\n",
    "best_model = YOLO(best_model_path)\n",
    "metrics = best_model.val(data='datasets/Dataset/data.yaml', imgsz=320)\n",
    "print(metrics)"
   ]
  },
  {
   "cell_type": "code",
   "execution_count": null,
   "metadata": {},
   "outputs": [],
   "source": [
    "test_results = best_model.predict(source='datasets/Dataset/test/images', imgsz=640, conf=0.25, save=True, save_dir='output/predictions')"
   ]
  },
  {
   "cell_type": "code",
   "execution_count": null,
   "metadata": {},
   "outputs": [],
   "source": [
    "modelv8m.train(data='datasets/Dataset/data.yaml', epochs=100, imgsz=480, batch=16)"
   ]
  },
  {
   "cell_type": "code",
   "execution_count": null,
   "metadata": {},
   "outputs": [],
   "source": [
    "best_model_path = 'runs/detect/train4/weights/best.pt'\n",
    "best_model = YOLO(best_model_path)\n",
    "metrics = best_model.val(data='datasets/Dataset/data.yaml', imgsz=480)\n",
    "print(metrics)"
   ]
  },
  {
   "cell_type": "code",
   "execution_count": null,
   "metadata": {},
   "outputs": [],
   "source": [
    "test_results = best_model.predict(source='datasets/Dataset/test/images', imgsz=640, conf=0.25, save=True, save_dir='output/predictions')"
   ]
  },
  {
   "cell_type": "code",
   "execution_count": 2,
   "metadata": {},
   "outputs": [],
   "source": [
    "modelvs_empty = YOLO(\"yolov8s.yaml\")"
   ]
  },
  {
   "cell_type": "code",
   "execution_count": null,
   "metadata": {},
   "outputs": [],
   "source": [
    "modelvs_empty.train(data='datasets/Dataset/data.yaml', epochs=100, imgsz=640)"
   ]
  },
  {
   "cell_type": "code",
   "execution_count": null,
   "metadata": {},
   "outputs": [],
   "source": [
    "best_model_path = 'runs/detect/train5/weights/best.pt'\n",
    "best_model = YOLO(best_model_path)\n",
    "metrics = best_model.val(data='datasets/Dataset/data.yaml', imgsz=480)\n",
    "print(metrics)"
   ]
  },
  {
   "cell_type": "code",
   "execution_count": null,
   "metadata": {},
   "outputs": [],
   "source": [
    "test_results = best_model.predict(source='datasets/Dataset/test/images', imgsz=640, conf=0.25, save=True, save_dir='output/predictions')"
   ]
  },
  {
   "cell_type": "code",
   "execution_count": 2,
   "metadata": {},
   "outputs": [],
   "source": [
    "modelvm_empty = YOLO(\"yolov8m.yaml\")"
   ]
  },
  {
   "cell_type": "code",
   "execution_count": null,
   "metadata": {},
   "outputs": [],
   "source": [
    "modelvm_empty.train(data='datasets/Dataset/data.yaml', epochs=100, imgsz=320, batch=16)"
   ]
  },
  {
   "cell_type": "code",
   "execution_count": null,
   "metadata": {},
   "outputs": [],
   "source": [
    "best_model_path = 'runs/detect/train6/weights/best.pt'\n",
    "best_model = YOLO(best_model_path)\n",
    "metrics = best_model.val(data='datasets/Dataset/data.yaml', imgsz=480)\n",
    "print(metrics)"
   ]
  },
  {
   "cell_type": "code",
   "execution_count": null,
   "metadata": {},
   "outputs": [],
   "source": [
    "test_results = best_model.predict(source='datasets/Dataset/test/images', imgsz=640, conf=0.25, save=True, save_dir='output/predictions')"
   ]
  },
  {
   "cell_type": "code",
   "execution_count": 4,
   "metadata": {},
   "outputs": [],
   "source": [
    "modelvn_empty = YOLO(\"yolov8n.yaml\")"
   ]
  },
  {
   "cell_type": "code",
   "execution_count": null,
   "metadata": {},
   "outputs": [],
   "source": [
    "modelvn_empty.train(data='datasets/Dataset/data.yaml', epochs=100, imgsz=640)"
   ]
  },
  {
   "cell_type": "code",
   "execution_count": null,
   "metadata": {},
   "outputs": [],
   "source": [
    "best_model_path = 'runs/detect/train7/weights/best.pt'\n",
    "best_model = YOLO(best_model_path)\n",
    "metrics = best_model.val(data='datasets/Dataset/data.yaml', imgsz=480)\n",
    "print(metrics)"
   ]
  },
  {
   "cell_type": "code",
   "execution_count": null,
   "metadata": {},
   "outputs": [],
   "source": [
    "test_results = best_model.predict(source='datasets/Dataset/test/images', imgsz=640, conf=0.25, save=True, save_dir='output/predictions')"
   ]
  }
 ],
 "metadata": {
  "kernelspec": {
   "display_name": "Python 3",
   "language": "python",
   "name": "python3"
  },
  "language_info": {
   "codemirror_mode": {
    "name": "ipython",
    "version": 3
   },
   "file_extension": ".py",
   "mimetype": "text/x-python",
   "name": "python",
   "nbconvert_exporter": "python",
   "pygments_lexer": "ipython3",
   "version": "3.10.11"
  }
 },
 "nbformat": 4,
 "nbformat_minor": 2
}
